{
  "cells": [
    {
      "cell_type": "code",
      "source": [
        "# import the necessary packages\n",
        "from scipy.spatial import distance as dist\n",
        "from imutils import perspective\n",
        "from imutils import contours\n",
        "import numpy as np\n",
        "import argparse\n",
        "import imutils\n",
        "import cv2"
      ],
      "metadata": {
        "id": "RZVTth305zHK"
      },
      "execution_count": 2,
      "outputs": []
    },
    {
      "cell_type": "code",
      "source": [
        "from google.colab import drive\n",
        "drive.mount('/content/drive')"
      ],
      "metadata": {
        "colab": {
          "base_uri": "https://localhost:8080/"
        },
        "id": "_ACnGj1xRrAR",
        "outputId": "32164440-9e62-4091-f29a-223eb54c4446"
      },
      "execution_count": 3,
      "outputs": [
        {
          "output_type": "stream",
          "name": "stdout",
          "text": [
            "Mounted at /content/drive\n"
          ]
        }
      ]
    },
    {
      "cell_type": "code",
      "source": [
        "# загрузка изображения и изменения цвета изображения на серый\n",
        "image = cv2.imread(\"/content/drive/MyDrive/images/zerna_find/zerna.png\")\n",
        "gray = cv2.cvtColor(image, cv2.COLOR_BGR2GRAY)\n",
        "edged = cv2.Canny(gray, 200, 600)\n",
        "edged = cv2.dilate(edged, None, iterations=2)\n",
        "edged = cv2.erode(edged, None, iterations=1)\n",
        "cv2.imwrite(\"/content/drive/MyDrive/images/zerna_find/zerna_edge.png\", edged)\n",
        "contours0, hierarchy = cv2.findContours(edged.copy(), cv2.RETR_LIST, cv2.CHAIN_APPROX_NONE)\n",
        "\n",
        "for cnt in contours0:\n",
        "  area = cv2.contourArea(cnt) \n",
        "  if area > 100:\n",
        "    cv2.drawContours(image, [cnt], -1, (0,255,255), 3)\n",
        "cv2.imwrite(\"/content/drive/MyDrive/images/zerna_find/zerna_diam.png\", image)"
      ],
      "metadata": {
        "colab": {
          "base_uri": "https://localhost:8080/"
        },
        "id": "0ZurPmOI5qT9",
        "outputId": "08124b1c-0046-48fb-fab5-8ed16facec3d"
      },
      "execution_count": 6,
      "outputs": [
        {
          "output_type": "execute_result",
          "data": {
            "text/plain": [
              "True"
            ]
          },
          "metadata": {},
          "execution_count": 6
        }
      ]
    }
  ],
  "metadata": {
    "colab": {
      "provenance": []
    },
    "gpuClass": "standard",
    "kernelspec": {
      "display_name": "Python 3",
      "name": "python3"
    },
    "language_info": {
      "name": "python"
    }
  },
  "nbformat": 4,
  "nbformat_minor": 0
}