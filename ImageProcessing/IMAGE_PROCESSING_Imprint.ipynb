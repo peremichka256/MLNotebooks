{
  "cells": [
    {
      "cell_type": "code",
      "execution_count": null,
      "metadata": {
        "colab": {
          "base_uri": "https://localhost:8080/"
        },
        "id": "Hpxv_tdfpz91",
        "outputId": "b9f37885-f6d8-40c6-abf4-952e52e92d30"
      },
      "outputs": [
        {
          "output_type": "stream",
          "name": "stdout",
          "text": [
            "Looking in indexes: https://pypi.org/simple, https://us-python.pkg.dev/colab-wheels/public/simple/\n",
            "Requirement already satisfied: imutils in /usr/local/lib/python3.8/dist-packages (0.5.4)\n"
          ]
        }
      ],
      "source": [
        "%%bash\n",
        "pip install imutils"
      ]
    },
    {
      "cell_type": "code",
      "execution_count": null,
      "metadata": {
        "colab": {
          "base_uri": "https://localhost:8080/"
        },
        "id": "qMESYLNgp-DU",
        "outputId": "2f98daf4-142f-4ade-bbde-fa7009744cd9"
      },
      "outputs": [
        {
          "output_type": "stream",
          "name": "stdout",
          "text": [
            "Looking in indexes: https://pypi.org/simple, https://us-python.pkg.dev/colab-wheels/public/simple/\n",
            "Requirement already satisfied: imutils in /usr/local/lib/python3.8/dist-packages (0.5.4)\n"
          ]
        }
      ],
      "source": [
        "%%bash\n",
        "pip install --upgrade imutils"
      ]
    },
    {
      "cell_type": "code",
      "source": [
        "from google.colab import drive\n",
        "from google.colab.patches import cv2_imshow\n",
        "drive.mount('/content/drive')\n",
        "import cv2"
      ],
      "metadata": {
        "id": "CvPmHhNwBy_Z",
        "colab": {
          "base_uri": "https://localhost:8080/"
        },
        "outputId": "96692d1d-23bb-404f-c2dc-9a158bc2adfa"
      },
      "execution_count": null,
      "outputs": [
        {
          "output_type": "stream",
          "name": "stdout",
          "text": [
            "Drive already mounted at /content/drive; to attempt to forcibly remount, call drive.mount(\"/content/drive\", force_remount=True).\n"
          ]
        }
      ]
    },
    {
      "cell_type": "code",
      "source": [
        "#Вырезаем из скриншота область с отпечатком\n",
        "input_file_name = \"orig/4.jpg\"\n",
        "output_file_name = \"cutting/4.png\"\n",
        "resim = cv2.imread(\"/content/drive/MyDrive/images/\" + input_file_name)\n",
        "\n",
        "Area = resim[139:1110, 207:1393]\n",
        "cv2.imwrite(\"/content/drive/MyDrive/images/\" + output_file_name, Area)"
      ],
      "metadata": {
        "colab": {
          "base_uri": "https://localhost:8080/"
        },
        "id": "caMOizKurWjr",
        "outputId": "a592e70e-dac0-4314-8190-a88793b101c9"
      },
      "execution_count": 82,
      "outputs": [
        {
          "output_type": "execute_result",
          "data": {
            "text/plain": [
              "True"
            ]
          },
          "metadata": {},
          "execution_count": 82
        }
      ]
    },
    {
      "cell_type": "code",
      "source": [
        "pip install rembg"
      ],
      "metadata": {
        "id": "OLHVt4C3auMk"
      },
      "execution_count": null,
      "outputs": []
    },
    {
      "cell_type": "code",
      "source": [
        "#Удаляем задний фон\n",
        "from rembg import remove\n",
        "import cv2\n",
        "\n",
        "input_path = \"/content/drive/MyDrive/images/cutting/4.png\"\n",
        "output_path = \"/content/drive/MyDrive/images/rembg/4.png\"\n",
        "\n",
        "input = cv2.imread(input_path)\n",
        "output = remove(input)\n",
        "cv2.imwrite(output_path, output)"
      ],
      "metadata": {
        "id": "PcV7IiqxaoaJ",
        "colab": {
          "base_uri": "https://localhost:8080/"
        },
        "outputId": "2b017183-1242-4ad8-aa54-171f82237951"
      },
      "execution_count": 92,
      "outputs": [
        {
          "output_type": "execute_result",
          "data": {
            "text/plain": [
              "True"
            ]
          },
          "metadata": {},
          "execution_count": 92
        }
      ]
    },
    {
      "cell_type": "code",
      "source": [
        "# import the necessary packages\n",
        "from scipy.spatial import distance as dist\n",
        "from imutils import perspective\n",
        "from imutils import contours\n",
        "import numpy as np\n",
        "import argparse\n",
        "import imutils\n",
        "import cv2"
      ],
      "metadata": {
        "id": "RZVTth305zHK"
      },
      "execution_count": null,
      "outputs": []
    },
    {
      "cell_type": "code",
      "source": [
        "# загрузка изображения и изменения цвета изображения на серый\n",
        "image = cv2.imread(\"/content/drive/MyDrive/images/rembg/2.png\")\n",
        "\n",
        "# image = cv2.fastNlMeansDenoisingColored(image, None, 10, 10, 7, 21)\n",
        "#image = image * 2\n",
        "#cv2_imshow(image)\n",
        "gray = cv2.cvtColor(image, cv2.COLOR_BGR2GRAY)\n",
        "#gray = r\n",
        "gray = cv2.GaussianBlur(gray, (5, 5), 0)\n",
        "gray = cv2.blur(gray, (4, 4))\n",
        "gray = gray * 3\n",
        "# perform edge detection, then perform a dilation + erosion to\n",
        "# close gaps in between object edges\n",
        "edged = cv2.Canny(gray, 75, 75)\n",
        "edged = cv2.dilate(edged, None, iterations=2)\n",
        "# edged = cv2.erode(edged, None, iterations=1)\n",
        "cv2.imwrite(\"/content/drive/MyDrive/images/final/2_edg.png\", edged)\n",
        "\n",
        "\n",
        "contours0, hierarchy = cv2.findContours(edged.copy(), cv2.RETR_TREE, cv2.CHAIN_APPROX_SIMPLE)\n",
        "\n",
        "for cnt in contours0:\n",
        "  rect = cv2.minAreaRect(cnt) # пытаемся вписать прямоугольник\n",
        "  box = cv2.boxPoints(rect) # поиск четырех вершин прямоугольника\n",
        "  box = np.int0(box) # округление координат\n",
        "  # cv2.drawContours(image,[box],0,(255,0,0),2) # рисуем прямоугольник\n",
        "  area = int(rect[1][0]*rect[1][1]) # вычисление площади\n",
        "#500000 для 4.png\n",
        "#50000 для 2.png\n",
        "  if area > 50000:\n",
        "    cv2.drawContours(image,[box],0,(255,0,0),2) # рисуем прямоугольник\n",
        "cv2.imwrite(\"/content/drive/MyDrive/images/final/2.png\", image)"
      ],
      "metadata": {
        "colab": {
          "base_uri": "https://localhost:8080/"
        },
        "id": "0ZurPmOI5qT9",
        "outputId": "f81feaed-64ff-4e1a-b3c9-7ea440be8bfe"
      },
      "execution_count": 116,
      "outputs": [
        {
          "output_type": "execute_result",
          "data": {
            "text/plain": [
              "True"
            ]
          },
          "metadata": {},
          "execution_count": 116
        }
      ]
    }
  ],
  "metadata": {
    "colab": {
      "provenance": []
    },
    "gpuClass": "standard",
    "kernelspec": {
      "display_name": "Python 3",
      "name": "python3"
    },
    "language_info": {
      "name": "python"
    }
  },
  "nbformat": 4,
  "nbformat_minor": 0
}